{
 "cells": [
  {
   "cell_type": "code",
   "execution_count": 40,
   "id": "789ae521",
   "metadata": {},
   "outputs": [],
   "source": [
    "# import all the necessary libraries\n",
    "import os\n",
    "import csv\n",
    "from pathlib import Path"
   ]
  },
  {
   "cell_type": "code",
   "execution_count": 41,
   "id": "cc325049",
   "metadata": {},
   "outputs": [],
   "source": [
    "# create empty lists for iteration\n",
    "months_total = []\n",
    "profit_total = []\n",
    "profit_change_month = []"
   ]
  },
  {
   "cell_type": "code",
   "execution_count": 42,
   "id": "e9e201d7",
   "metadata": {},
   "outputs": [],
   "source": [
    "# path to files\n",
    "budgetdata = Path(\"python-challenge\", \"Resources\", \"budget_data.csv\")"
   ]
  },
  {
   "cell_type": "code",
   "execution_count": 43,
   "id": "1db5752e",
   "metadata": {},
   "outputs": [],
   "source": [
    "# open the csv file in default read mode w/ context manager\n",
    "with open(budgetdata, newline = \"\", encoding = \"utf-8\") as budget:\n",
    "    # stores the data from the csv file in csvreader\n",
    "    csvreader = csv.reader(budget, delimiter = \",\")\n",
    "    # there is a header so we must delcare that to ignore\n",
    "    head = next(csvreader)\n",
    "    # iterate through each row in the file\n",
    "    for row in csvreader:\n",
    "        # append total months and profit to their lists\n",
    "        months_total.append(row[0])\n",
    "        profit_total.append(int(row[1]))\n",
    "    # iterate through the rows of profit to calculate monthly changes\n",
    "    for i in range(len(profit_total)-1):\n",
    "        # calculation\n",
    "        profit_change_month.append(profit_total[i+1]-profit_total[i])"
   ]
  },
  {
   "cell_type": "code",
   "execution_count": 44,
   "id": "5e50ea41",
   "metadata": {},
   "outputs": [],
   "source": [
    "# look for the maximum and minimum changes from profit_change_month\n",
    "max_increase = max(profit_change_month)\n",
    "max_decrease = min(profit_change_month)"
   ]
  },
  {
   "cell_type": "code",
   "execution_count": 45,
   "id": "602b2263",
   "metadata": {},
   "outputs": [],
   "source": [
    "# showing the proper change from using the month list and index of max/min; + 1 at the end to show next month\n",
    "max_increase_month = profit_change_month.index(max(profit_change_month)) + 1\n",
    "max_decrease_month = profit_change_month.index(max(profit_change_month)) + 1"
   ]
  },
  {
   "cell_type": "code",
   "execution_count": 46,
   "id": "bb07b3a1",
   "metadata": {},
   "outputs": [
    {
     "name": "stdout",
     "output_type": "stream",
     "text": [
      "Financial Analysis\n",
      "---------------------------\n",
      "Total Months: 86\n",
      "Total: $22564198\n",
      "Avg Change: -8311.11\n",
      "Greatest Increase in Profits: Aug-16 ($1862002)\n",
      "Greatest Decrease in Profits: Aug-16 ($-1825558)\n"
     ]
    }
   ],
   "source": [
    "print(\"Financial Analysis\")\n",
    "print(\"---------------------------\")\n",
    "print(f\"Total Months: {len(months_total)}\")\n",
    "print(f\"Total: ${sum(profit_total)}\")\n",
    "print(f\"Average Change: ${round(sum(profit_change_month)/len(profit_change_month),2)}\")\n",
    "print(f\"Greatest Increase in Profits: {months_total[max_increase_month]} (${(str(max_increase))})\")\n",
    "print(f\"Greatest Decrease in Profits: {months_total[max_increase_month]} (${(str(max_decrease))})\")"
   ]
  },
  {
   "cell_type": "code",
   "execution_count": 47,
   "id": "b2a407c6",
   "metadata": {},
   "outputs": [],
   "source": [
    "outputdata = Path(\"python-challenge\", \"Financial_Analysis_Summary.txt\")"
   ]
  },
  {
   "cell_type": "code",
   "execution_count": 48,
   "id": "28361963",
   "metadata": {},
   "outputs": [],
   "source": [
    "with open(outputdata,\"w\") as file:\n",
    "    \n",
    "# writing the file\n",
    "    file.write(\"Financial Analysis\")\n",
    "    file.write(\"\\n\")\n",
    "    file.write(\"---------------------------\")\n",
    "    file.write(\"\\n\")\n",
    "    file.write(f\"Total Months: {len(months_total)}\")\n",
    "    file.write(\"\\n\")\n",
    "    file.write(f\"Total: ${sum(profit_total)}\")\n",
    "    file.write(\"\\n\")\n",
    "    file.write(f\"Average Change: ${round(sum(profit_change_month)/len(profit_change_month),2)}\")\n",
    "    file.write(\"\\n\")\n",
    "    file.write(f\"Greatest Increase in Profits: {months_total[max_increase_month]} (${(str(max_increase))})\")\n",
    "    file.write(\"\\n\")\n",
    "    file.write(f\"Greatest Decrease in Profits: {months_total[max_decrease_month]} (${(str(max_decrease))})\")"
   ]
  }
 ],
 "metadata": {
  "kernelspec": {
   "display_name": "Python 3 (ipykernel)",
   "language": "python",
   "name": "python3"
  },
  "language_info": {
   "codemirror_mode": {
    "name": "ipython",
    "version": 3
   },
   "file_extension": ".py",
   "mimetype": "text/x-python",
   "name": "python",
   "nbconvert_exporter": "python",
   "pygments_lexer": "ipython3",
   "version": "3.9.7"
  }
 },
 "nbformat": 4,
 "nbformat_minor": 5
}
