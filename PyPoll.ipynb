{
 "cells": [
  {
   "cell_type": "code",
   "execution_count": 13,
   "id": "cda4c583",
   "metadata": {},
   "outputs": [],
   "source": [
    "# import all the necessary libraries\n",
    "import os\n",
    "import csv\n",
    "from pathlib import Path"
   ]
  },
  {
   "cell_type": "code",
   "execution_count": 14,
   "id": "3b4e667c",
   "metadata": {},
   "outputs": [],
   "source": [
    "# declare variables\n",
    "total_votes = 0\n",
    "charles_votes = 0\n",
    "diana_votes = 0\n",
    "raymon_votes = 0"
   ]
  },
  {
   "cell_type": "code",
   "execution_count": 15,
   "id": "ba6a6e62",
   "metadata": {},
   "outputs": [],
   "source": [
    "# path to files\n",
    "electiondata = Path(\"python-challenge\", \"Resources\", \"election_data.csv\")"
   ]
  },
  {
   "cell_type": "code",
   "execution_count": 16,
   "id": "5f57d239",
   "metadata": {},
   "outputs": [],
   "source": [
    "# open the csv file in default read mode w/ context manager\n",
    "with open(electiondata, newline=\"\", encoding = \"utf-8\") as election:\n",
    "    # stores the data from the csv file in csvreader\n",
    "    csvreader = csv.reader(election, delimiter = \",\")\n",
    "    # there is a header so we must delcare that to ignore\n",
    "    head = next(csvreader)\n",
    "    # iterate through each row in the file\n",
    "    for row in csvreader:\n",
    "        # count the unique voter ids\n",
    "        total_votes += 1\n",
    "        # 3 candidates to consider if the name is found; count the amount of times it appears and stores it\n",
    "        # can use this to calculate percentage\n",
    "        if row[2] == \"Charles Casper Stockham\":\n",
    "            charles_votes += 1\n",
    "        elif row[2] == \"Diana DeGette\":\n",
    "            diana_votes += 1\n",
    "        elif row[2] == \"Raymon Anthony Doane\":\n",
    "            raymon_votes += 1"
   ]
  },
  {
   "cell_type": "code",
   "execution_count": 17,
   "id": "9401a0c4",
   "metadata": {},
   "outputs": [],
   "source": [
    "# store the candidates in a dictionary to find the winner\n",
    "candidates = [\"Charles Casper Stockham\", \"Diana DeGette\", \"Raymon Anthony Doane\"]\n",
    "votes = [charles_votes, diana_votes, raymon_votes]"
   ]
  },
  {
   "cell_type": "code",
   "execution_count": 18,
   "id": "125bbdcd",
   "metadata": {},
   "outputs": [],
   "source": [
    "# zip the list of candidates and votes together to return a winner via max fucntion of the dictionary\n",
    "candidates_and_votes = dict(zip(candidates, votes))\n",
    "key = max(candidates_and_votes, key=candidates_and_votes.get)"
   ]
  },
  {
   "cell_type": "code",
   "execution_count": 19,
   "id": "492ad90e",
   "metadata": {},
   "outputs": [],
   "source": [
    "# calculations\n",
    "charles_percent = (charles_votes/total_votes) * 100\n",
    "diana_percent = (diana_votes/total_votes) * 100\n",
    "raymon_percent = (raymon_votes/total_votes) * 100"
   ]
  },
  {
   "cell_type": "code",
   "execution_count": 20,
   "id": "c5e7ff2f",
   "metadata": {},
   "outputs": [
    {
     "name": "stdout",
     "output_type": "stream",
     "text": [
      "Election Results\n",
      "-------------------------\n",
      "Total Votes: 369711\n",
      "----------------------------\n",
      "Charles: 23.049% (85213)\n",
      "Diana: 73.812% (272892)\n",
      "Raymon: 3.139% (11606)\n",
      "----------------------------\n",
      "Winner: Diana DeGette\n",
      "----------------------------\n"
     ]
    }
   ],
   "source": [
    "print(f\"Election Results\")\n",
    "print(f\"-------------------------\")\n",
    "print(f\"Total Votes: {total_votes}\")\n",
    "print(f\"----------------------------\")\n",
    "print(f\"Charles: {charles_percent:.3f}% ({charles_votes})\")\n",
    "print(f\"Diana: {diana_percent:.3f}% ({diana_votes})\")\n",
    "print(f\"Raymon: {raymon_percent:.3f}% ({raymon_votes})\")\n",
    "print(f\"----------------------------\")\n",
    "print(f\"Winner: {key}\")\n",
    "print(f\"----------------------------\")"
   ]
  },
  {
   "cell_type": "code",
   "execution_count": 21,
   "id": "fe2b3009",
   "metadata": {},
   "outputs": [],
   "source": [
    "outputdata = Path(\"python-challenge\", \"Election_Results_Summary.txt\")"
   ]
  },
  {
   "cell_type": "code",
   "execution_count": 22,
   "id": "751d908c",
   "metadata": {},
   "outputs": [],
   "source": [
    "with open(outputdata, \"w\") as file:\n",
    "    # writing the file\n",
    "    file.write(f\"Election Results\")\n",
    "    file.write(f\"-------------------------\")\n",
    "    file.write(f\"Total Votes: {total_votes}\")\n",
    "    file.write(f\"----------------------------\")\n",
    "    file.write(f\"Charles: {charles_percent:.3f}% ({charles_votes})\")\n",
    "    file.write(f\"Diana: {diana_percent:.3f}% ({diana_votes})\")\n",
    "    file.write(f\"Raymon: {raymon_percent:.3f}% ({raymon_votes})\")\n",
    "    file.write(f\"----------------------------\")\n",
    "    file.write(f\"Winner: {key}\")\n",
    "    file.write(f\"----------------------------\")"
   ]
  }
 ],
 "metadata": {
  "kernelspec": {
   "display_name": "Python 3 (ipykernel)",
   "language": "python",
   "name": "python3"
  },
  "language_info": {
   "codemirror_mode": {
    "name": "ipython",
    "version": 3
   },
   "file_extension": ".py",
   "mimetype": "text/x-python",
   "name": "python",
   "nbconvert_exporter": "python",
   "pygments_lexer": "ipython3",
   "version": "3.9.7"
  }
 },
 "nbformat": 4,
 "nbformat_minor": 5
}
