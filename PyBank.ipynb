{
 "cells": [
  {
   "cell_type": "code",
   "execution_count": null,
   "id": "854be2b3",
   "metadata": {},
   "outputs": [],
   "source": [
    "# import all the necessary libraries\n",
    "import os\n",
    "import csv\n",
    "from pathlib import Path"
   ]
  },
  {
   "cell_type": "code",
   "execution_count": null,
   "id": "01448ff7",
   "metadata": {},
   "outputs": [],
   "source": [
    "# create empty lists for iteration\n",
    "months_total = []\n",
    "profit_total = []\n",
    "profit_change_month = []"
   ]
  },
  {
   "cell_type": "code",
   "execution_count": null,
   "id": "06a1179b",
   "metadata": {},
   "outputs": [],
   "source": [
    "# path to files\n",
    "budgetdata = Path(\"python-challenge\", \"Resources\", \"budget_data.csv\")"
   ]
  },
  {
   "cell_type": "code",
   "execution_count": null,
   "id": "d02ca853",
   "metadata": {},
   "outputs": [],
   "source": [
    "# open the csv file in default read mode w/ context manager\n",
    "with open(budgetdata, newline = \"\", encoding = \"utf-8\") as budget:\n",
    "    # stores the data from the csv file in csvreader\n",
    "    csvreader = csv.reader(budget, delimiter = \",\")\n",
    "    # there is a header so we must delcare that to ignore\n",
    "    head = next(csvreader)\n",
    "    # iterate through each row in the file\n",
    "    for row in csvreader:\n",
    "        # append total months and profit to their lists\n",
    "        months_total.append(row[0])\n",
    "        profit_total.append(int(row[1]))\n",
    "    # iterate through the rows of profit to calculate monthly changes\n",
    "    for i in range(len(profit_total)-1):\n",
    "        # calculation\n",
    "        profit_change_month.append(profit_total[i+1]-profit_total[i])"
   ]
  },
  {
   "cell_type": "code",
   "execution_count": null,
   "id": "5749f751",
   "metadata": {},
   "outputs": [],
   "source": [
    "# look for the maximum and minimum changes from profit_change_month\n",
    "max_increase = max(profit_change_month)\n",
    "max_decrease = min(profit_change_month)"
   ]
  },
  {
   "cell_type": "code",
   "execution_count": null,
   "id": "cebad001",
   "metadata": {},
   "outputs": [],
   "source": [
    "# showing the proper change from using the month list and index of max/min; + 1 at the end to show next month\n",
    "max_increase_month = profit_change_month.index(max(profit_change_month)) + 1\n",
    "max_decrease_month = profiit_change_month.index(max(profit_change_month) + 1"
   ]
  },
  {
   "cell_type": "code",
   "execution_count": null,
   "id": "390fabd3",
   "metadata": {},
   "outputs": [],
   "source": [
    "print(\"Financial Analysis\")\n",
    "print(\"---------------------------\")\n",
    "print(f\"Total Months: {len(months_total)}\")\n",
    "print(f\"Total: ${sum(profit_total)}\")\n",
    "print(f\"Avg Change: {round(sum(profit_change_month)/len(profit_change_month),2)}\")\n",
    "print(f\"Greatest Increase in Profits: {months_total[max_increase_month]} (${(str(max_increase))})\")\n",
    "print(f\"Greatest Decrease in Profits: {months_total[max_increase_month]} (${(str(max_decrease))})\")"
   ]
  },
  {
   "cell_type": "code",
   "execution_count": null,
   "id": "e41e229f",
   "metadata": {},
   "outputs": [],
   "source": [
    "outputdata = Path(\"python-challenge\", \"Financial_Analysis_Summary.txt\")"
   ]
  },
  {
   "cell_type": "code",
   "execution_count": null,
   "id": "0c70ecfc",
   "metadata": {},
   "outputs": [],
   "source": [
    "with open(output_file,\"w\") as file:\n",
    "    \n",
    "# writing the file\n",
    "    file.write(\"Financial Analysis\")\n",
    "    file.write(\"\\n\")\n",
    "    file.write(\"---------------------------\")\n",
    "    file.write(\"\\n\")\n",
    "    file.write(f\"Total Months: {len(months_total)}\")\n",
    "    file.write(\"\\n\")\n",
    "    file.write(f\"Total: ${sum(profit_total)}\")\n",
    "    file.write(\"\\n\")\n",
    "    file.write(f\"Average Change: {round(sum(profit_change_month)/len(profit_change_month),2)}\")\n",
    "    file.write(\"\\n\")\n",
    "    file.write(f\"Greatest Increase in Profits: {months_total[max_increase_month]} (${(str(max_increase))})\")\n",
    "    file.write(\"\\n\")\n",
    "    file.write(f\"Greatest Decrease in Profits: {months_total[max_increase_month]} (${(str(max_decrease))})\")"
   ]
  }
 ],
 "metadata": {
  "kernelspec": {
   "display_name": "Python 3 (ipykernel)",
   "language": "python",
   "name": "python3"
  },
  "language_info": {
   "codemirror_mode": {
    "name": "ipython",
    "version": 3
   },
   "file_extension": ".py",
   "mimetype": "text/x-python",
   "name": "python",
   "nbconvert_exporter": "python",
   "pygments_lexer": "ipython3",
   "version": "3.9.7"
  }
 },
 "nbformat": 4,
 "nbformat_minor": 5
}
